{
  "nbformat": 4,
  "nbformat_minor": 0,
  "metadata": {
    "colab": {
      "name": "Desafio LED Parte 1.ipynb",
      "provenance": [],
      "authorship_tag": "ABX9TyNJ/aKR5F9m/NunIADdyWgc",
      "include_colab_link": true
    },
    "kernelspec": {
      "name": "python3",
      "display_name": "Python 3"
    },
    "language_info": {
      "name": "python"
    }
  },
  "cells": [
    {
      "cell_type": "markdown",
      "metadata": {
        "id": "view-in-github",
        "colab_type": "text"
      },
      "source": [
        "<a href=\"https://colab.research.google.com/github/victoraccete/LED_tasks/blob/main/Desafio_LED_Parte_1.ipynb\" target=\"_parent\"><img src=\"https://colab.research.google.com/assets/colab-badge.svg\" alt=\"Open In Colab\"/></a>"
      ]
    },
    {
      "cell_type": "code",
      "metadata": {
        "id": "Vg_v_rHEEfwc"
      },
      "source": [
        "import pandas as pd"
      ],
      "execution_count": 19,
      "outputs": []
    },
    {
      "cell_type": "markdown",
      "metadata": {
        "id": "M98Vimi5F-E6"
      },
      "source": [
        "# Parte 1"
      ]
    },
    {
      "cell_type": "code",
      "metadata": {
        "colab": {
          "base_uri": "https://localhost:8080/",
          "height": 394
        },
        "id": "LNqUgN4xFkyJ",
        "outputId": "c0ef7207-2bab-425d-aa25-574ca12d9af7"
      },
      "source": [
        "us_500 = pd.read_csv(\"https://raw.githubusercontent.com/victoraccete/LED_tasks/main/us-500.csv\")\n",
        "us_500.head()"
      ],
      "execution_count": 20,
      "outputs": [
        {
          "output_type": "execute_result",
          "data": {
            "text/html": [
              "<div>\n",
              "<style scoped>\n",
              "    .dataframe tbody tr th:only-of-type {\n",
              "        vertical-align: middle;\n",
              "    }\n",
              "\n",
              "    .dataframe tbody tr th {\n",
              "        vertical-align: top;\n",
              "    }\n",
              "\n",
              "    .dataframe thead th {\n",
              "        text-align: right;\n",
              "    }\n",
              "</style>\n",
              "<table border=\"1\" class=\"dataframe\">\n",
              "  <thead>\n",
              "    <tr style=\"text-align: right;\">\n",
              "      <th></th>\n",
              "      <th>first_name</th>\n",
              "      <th>last_name</th>\n",
              "      <th>company_name</th>\n",
              "      <th>address</th>\n",
              "      <th>city</th>\n",
              "      <th>county</th>\n",
              "      <th>state</th>\n",
              "      <th>zip</th>\n",
              "      <th>phone1</th>\n",
              "      <th>phone2</th>\n",
              "      <th>email</th>\n",
              "      <th>web</th>\n",
              "    </tr>\n",
              "  </thead>\n",
              "  <tbody>\n",
              "    <tr>\n",
              "      <th>0</th>\n",
              "      <td>James</td>\n",
              "      <td>Butt</td>\n",
              "      <td>Benton, John B Jr</td>\n",
              "      <td>6649 N Blue Gum St</td>\n",
              "      <td>New Orleans</td>\n",
              "      <td>Orleans</td>\n",
              "      <td>LA</td>\n",
              "      <td>70116</td>\n",
              "      <td>504-621-8927</td>\n",
              "      <td>504-845-1427</td>\n",
              "      <td>jbutt@gmail.com</td>\n",
              "      <td>http://www.bentonjohnbjr.com</td>\n",
              "    </tr>\n",
              "    <tr>\n",
              "      <th>1</th>\n",
              "      <td>Josephine</td>\n",
              "      <td>Darakjy</td>\n",
              "      <td>Chanay, Jeffrey A Esq</td>\n",
              "      <td>4 B Blue Ridge Blvd</td>\n",
              "      <td>Brighton</td>\n",
              "      <td>Livingston</td>\n",
              "      <td>MI</td>\n",
              "      <td>48116</td>\n",
              "      <td>810-292-9388</td>\n",
              "      <td>810-374-9840</td>\n",
              "      <td>josephine_darakjy@darakjy.org</td>\n",
              "      <td>http://www.chanayjeffreyaesq.com</td>\n",
              "    </tr>\n",
              "    <tr>\n",
              "      <th>2</th>\n",
              "      <td>Art</td>\n",
              "      <td>Venere</td>\n",
              "      <td>Chemel, James L Cpa</td>\n",
              "      <td>8 W Cerritos Ave #54</td>\n",
              "      <td>Bridgeport</td>\n",
              "      <td>Gloucester</td>\n",
              "      <td>NJ</td>\n",
              "      <td>8014</td>\n",
              "      <td>856-636-8749</td>\n",
              "      <td>856-264-4130</td>\n",
              "      <td>art@venere.org</td>\n",
              "      <td>http://www.chemeljameslcpa.com</td>\n",
              "    </tr>\n",
              "    <tr>\n",
              "      <th>3</th>\n",
              "      <td>Lenna</td>\n",
              "      <td>Paprocki</td>\n",
              "      <td>Feltz Printing Service</td>\n",
              "      <td>639 Main St</td>\n",
              "      <td>Anchorage</td>\n",
              "      <td>Anchorage</td>\n",
              "      <td>AK</td>\n",
              "      <td>99501</td>\n",
              "      <td>907-385-4412</td>\n",
              "      <td>907-921-2010</td>\n",
              "      <td>lpaprocki@hotmail.com</td>\n",
              "      <td>http://www.feltzprintingservice.com</td>\n",
              "    </tr>\n",
              "    <tr>\n",
              "      <th>4</th>\n",
              "      <td>Donette</td>\n",
              "      <td>Foller</td>\n",
              "      <td>Printing Dimensions</td>\n",
              "      <td>34 Center St</td>\n",
              "      <td>Hamilton</td>\n",
              "      <td>Butler</td>\n",
              "      <td>OH</td>\n",
              "      <td>45011</td>\n",
              "      <td>513-570-1893</td>\n",
              "      <td>513-549-4561</td>\n",
              "      <td>donette.foller@cox.net</td>\n",
              "      <td>http://www.printingdimensions.com</td>\n",
              "    </tr>\n",
              "  </tbody>\n",
              "</table>\n",
              "</div>"
            ],
            "text/plain": [
              "  first_name  ...                                  web\n",
              "0      James  ...         http://www.bentonjohnbjr.com\n",
              "1  Josephine  ...     http://www.chanayjeffreyaesq.com\n",
              "2        Art  ...       http://www.chemeljameslcpa.com\n",
              "3      Lenna  ...  http://www.feltzprintingservice.com\n",
              "4    Donette  ...    http://www.printingdimensions.com\n",
              "\n",
              "[5 rows x 12 columns]"
            ]
          },
          "metadata": {
            "tags": []
          },
          "execution_count": 20
        }
      ]
    },
    {
      "cell_type": "markdown",
      "metadata": {
        "id": "sXpla6TuGK9L"
      },
      "source": [
        "## A. Cheque se há algum dado faltante na base de dados ‘us-500’;\n",
        "Podemos fazer essa checagem de muitas maneiras. A primeira, é usar o pandas para obter informações das colunas do conjunto de dados e ler se há alguma coluna cujo número de non-null é menor que o número total de observações. Assim:"
      ]
    },
    {
      "cell_type": "code",
      "metadata": {
        "colab": {
          "base_uri": "https://localhost:8080/"
        },
        "id": "5yUqyXF0FoSg",
        "outputId": "7150153a-ef38-4918-f54f-b3424126488b"
      },
      "source": [
        "us_500.info()"
      ],
      "execution_count": 21,
      "outputs": [
        {
          "output_type": "stream",
          "text": [
            "<class 'pandas.core.frame.DataFrame'>\n",
            "RangeIndex: 500 entries, 0 to 499\n",
            "Data columns (total 12 columns):\n",
            " #   Column        Non-Null Count  Dtype \n",
            "---  ------        --------------  ----- \n",
            " 0   first_name    500 non-null    object\n",
            " 1   last_name     500 non-null    object\n",
            " 2   company_name  500 non-null    object\n",
            " 3   address       500 non-null    object\n",
            " 4   city          500 non-null    object\n",
            " 5   county        500 non-null    object\n",
            " 6   state         500 non-null    object\n",
            " 7   zip           500 non-null    int64 \n",
            " 8   phone1        500 non-null    object\n",
            " 9   phone2        500 non-null    object\n",
            " 10  email         500 non-null    object\n",
            " 11  web           500 non-null    object\n",
            "dtypes: int64(1), object(11)\n",
            "memory usage: 47.0+ KB\n"
          ],
          "name": "stdout"
        }
      ]
    },
    {
      "cell_type": "markdown",
      "metadata": {
        "id": "Qenl0wncGb0G"
      },
      "source": [
        "Já podemos ver que não há dados faltantes neste conjunto de dados.  \n",
        "No entanto, há outras formas de fazer essa verificação. Podemos, por exemplo, somar os números de dados faltantes, por coluna, no conjunto. Como não há dados faltantes no dataset, o resultado esperado é que cada coluna seja 0. Vamos ver:"
      ]
    },
    {
      "cell_type": "code",
      "metadata": {
        "colab": {
          "base_uri": "https://localhost:8080/"
        },
        "id": "obGGGwftGZ1k",
        "outputId": "25f36895-25ca-42c1-c21d-8eb01f38d292"
      },
      "source": [
        "us_500.isna().sum()"
      ],
      "execution_count": 22,
      "outputs": [
        {
          "output_type": "execute_result",
          "data": {
            "text/plain": [
              "first_name      0\n",
              "last_name       0\n",
              "company_name    0\n",
              "address         0\n",
              "city            0\n",
              "county          0\n",
              "state           0\n",
              "zip             0\n",
              "phone1          0\n",
              "phone2          0\n",
              "email           0\n",
              "web             0\n",
              "dtype: int64"
            ]
          },
          "metadata": {
            "tags": []
          },
          "execution_count": 22
        }
      ]
    },
    {
      "cell_type": "markdown",
      "metadata": {
        "id": "q4NlUoaOHbC8"
      },
      "source": [
        "## B. Classifique os endereços por ‘state’;\n",
        "\n",
        "Confesso que não entendi exatamente o que seria essa classificação por estado. Suponho que seja um agrupamento. Se esse for o caso, podemos fazer da seguinte forma:"
      ]
    },
    {
      "cell_type": "code",
      "metadata": {
        "colab": {
          "base_uri": "https://localhost:8080/",
          "height": 433
        },
        "id": "aowkkrizHZhx",
        "outputId": "5ab17178-72e6-421e-9c49-80d411734afe"
      },
      "source": [
        "addresses = us_500[['state', 'address']].groupby(by=['state', 'address']).sum()\n",
        "addresses"
      ],
      "execution_count": 23,
      "outputs": [
        {
          "output_type": "execute_result",
          "data": {
            "text/html": [
              "<div>\n",
              "<style scoped>\n",
              "    .dataframe tbody tr th:only-of-type {\n",
              "        vertical-align: middle;\n",
              "    }\n",
              "\n",
              "    .dataframe tbody tr th {\n",
              "        vertical-align: top;\n",
              "    }\n",
              "\n",
              "    .dataframe thead th {\n",
              "        text-align: right;\n",
              "    }\n",
              "</style>\n",
              "<table border=\"1\" class=\"dataframe\">\n",
              "  <thead>\n",
              "    <tr style=\"text-align: right;\">\n",
              "      <th></th>\n",
              "      <th></th>\n",
              "    </tr>\n",
              "    <tr>\n",
              "      <th>state</th>\n",
              "      <th>address</th>\n",
              "    </tr>\n",
              "  </thead>\n",
              "  <tbody>\n",
              "    <tr>\n",
              "      <th rowspan=\"5\" valign=\"top\">AK</th>\n",
              "      <th>1048 Main St</th>\n",
              "    </tr>\n",
              "    <tr>\n",
              "      <th>1747 Calle Amanecer #2</th>\n",
              "    </tr>\n",
              "    <tr>\n",
              "      <th>18 Fountain St</th>\n",
              "    </tr>\n",
              "    <tr>\n",
              "      <th>20 S Babcock St</th>\n",
              "    </tr>\n",
              "    <tr>\n",
              "      <th>639 Main St</th>\n",
              "    </tr>\n",
              "    <tr>\n",
              "      <th>...</th>\n",
              "      <th>...</th>\n",
              "    </tr>\n",
              "    <tr>\n",
              "      <th rowspan=\"2\" valign=\"top\">WI</th>\n",
              "      <th>762 S Main St</th>\n",
              "    </tr>\n",
              "    <tr>\n",
              "      <th>9 N College Ave #3</th>\n",
              "    </tr>\n",
              "    <tr>\n",
              "      <th rowspan=\"3\" valign=\"top\">WY</th>\n",
              "      <th>38773 Gravois Ave</th>\n",
              "    </tr>\n",
              "    <tr>\n",
              "      <th>66697 Park Pl #3224</th>\n",
              "    </tr>\n",
              "    <tr>\n",
              "      <th>7140 University Ave</th>\n",
              "    </tr>\n",
              "  </tbody>\n",
              "</table>\n",
              "<p>500 rows × 0 columns</p>\n",
              "</div>"
            ],
            "text/plain": [
              "Empty DataFrame\n",
              "Columns: []\n",
              "Index: [(AK, 1048 Main St), (AK, 1747 Calle Amanecer #2), (AK, 18 Fountain St), (AK, 20 S Babcock St), (AK, 639 Main St), (AK, 735 Crawford Dr), (AR, 1844 Southern Blvd), (AZ, 1 Huntwood Ave), (AZ, 10759 Main St), (AZ, 347 Chestnut St), (AZ, 4 58th St #3519), (AZ, 72 Southern Blvd), (AZ, 73 State Road 434 E), (AZ, 86350 Roszel Rd), (AZ, 9 W Central Ave), (AZ, 96541 W Central Blvd), (CA, 1 Century Park E), (CA, 10276 Brooks St), (CA, 105 Richmond Valley Rd), (CA, 1128 Delaware St), (CA, 11360 S Halsted St), (CA, 13252 Lighthouse Ave), (CA, 17 Morena Blvd), (CA, 18 Coronado Ave #563), (CA, 1933 Packer Ave #2), (CA, 195 13n N), (CA, 2 Monroe St), (CA, 20932 Hedley St), (CA, 2140 Diamond Blvd), (CA, 2184 Worth St), (CA, 22 Spruce St #595), (CA, 2409 Alabama Rd), (CA, 25 E 75th St #69), (CA, 251 Park Ave #979), (CA, 26659 N 13th St), (CA, 2887 Knowlton St #5435), (CA, 2972 Lafayette Ave), (CA, 30 W 80th St #1995), (CA, 3196 S Rider Trl), (CA, 326 E Main St #6496), (CA, 34 Raritan Center Pky), (CA, 35433 Blake St #588), (CA, 3717 Hamann Industrial Pky), (CA, 38 Pleasant Hill Rd), (CA, 3882 W Congress St #799), (CA, 39 Moccasin Dr), (CA, 395 S 6th St #2), (CA, 3989 Portage Tr), (CA, 4 E Colonial Dr), (CA, 4 Otis St), (CA, 4 S Washington Ave), (CA, 4119 Metropolitan Dr), (CA, 429 Tiger Ln), (CA, 433 Westminster Blvd #590), (CA, 469 Outwater Ln), (CA, 47154 Whipple Ave Nw), (CA, 47939 Porter Ave), (CA, 48 Stratford Ave), (CA, 4800 Black Horse Pike), (CA, 5 N Cleveland Massillon Rd), (CA, 5 Tomahawk Dr), (CA, 5 Washington St #1), (CA, 524 Louisiana Ave Nw), (CA, 52777 Leaders Heights Rd), (CA, 577 Parade St), (CA, 598 43rd St), (CA, 6 Greenleaf Ave), (CA, 6 Middlegate Rd #106), (CA, 60 Fillmore Ave), (CA, 62 Monroe St), (CA, 68556 Central Hwy), (CA, 69 Marquette Ave), (CA, 6916 W Main St), (CA, 7 W Jackson Blvd), (CA, 70 Mechanic St), (CA, 701 S Harrison Rd), (CA, 72119 S Walker Ave #63), (CA, 72868 Blackington Ave), (CA, 77 222 Dr), (CA, 82 N Highway 67), (CA, 83649 W Belmont Ave), (CA, 87 Sierra Rd), (CA, 87895 Concord Rd), (CA, 9 N 14th St), (CA, 94290 S Buchanan St), (CA, 98 University Dr), (CA, 985 E 6th Ave), (CA, 99385 Charity St #840), (CO, 17 Jersey Ave), (CO, 2664 Lewis Rd), (CO, 4 Webbs Chapel Rd), (CO, 669 Packerland Dr #1438), (CO, 721 Interstate 45 S), (CO, 76598 Rd  I 95 #1), (CO, 8 Us Highway 22), (CO, 866 34th Ave), (CT, 46314 Route 130), (CT, 49440 Dearborn St), (CT, 759 Eldora St), (CT, 78112 Morris Ave), ...]\n",
              "\n",
              "[500 rows x 0 columns]"
            ]
          },
          "metadata": {
            "tags": []
          },
          "execution_count": 23
        }
      ]
    },
    {
      "cell_type": "markdown",
      "metadata": {
        "id": "yE9ZAfHVLqRF"
      },
      "source": [
        "Assim, agrupamos os endereços por estado. No entanto, ambos são considerados índices. Para considerar 'address' e 'state' como colunas, podemos fazer um reset_index():"
      ]
    },
    {
      "cell_type": "code",
      "metadata": {
        "colab": {
          "base_uri": "https://localhost:8080/",
          "height": 419
        },
        "id": "iaOAoehFKJiM",
        "outputId": "43a530e0-6a80-4ac7-8219-6587e1a993da"
      },
      "source": [
        "addresses.reset_index()"
      ],
      "execution_count": 24,
      "outputs": [
        {
          "output_type": "execute_result",
          "data": {
            "text/html": [
              "<div>\n",
              "<style scoped>\n",
              "    .dataframe tbody tr th:only-of-type {\n",
              "        vertical-align: middle;\n",
              "    }\n",
              "\n",
              "    .dataframe tbody tr th {\n",
              "        vertical-align: top;\n",
              "    }\n",
              "\n",
              "    .dataframe thead th {\n",
              "        text-align: right;\n",
              "    }\n",
              "</style>\n",
              "<table border=\"1\" class=\"dataframe\">\n",
              "  <thead>\n",
              "    <tr style=\"text-align: right;\">\n",
              "      <th></th>\n",
              "      <th>state</th>\n",
              "      <th>address</th>\n",
              "    </tr>\n",
              "  </thead>\n",
              "  <tbody>\n",
              "    <tr>\n",
              "      <th>0</th>\n",
              "      <td>AK</td>\n",
              "      <td>1048 Main St</td>\n",
              "    </tr>\n",
              "    <tr>\n",
              "      <th>1</th>\n",
              "      <td>AK</td>\n",
              "      <td>1747 Calle Amanecer #2</td>\n",
              "    </tr>\n",
              "    <tr>\n",
              "      <th>2</th>\n",
              "      <td>AK</td>\n",
              "      <td>18 Fountain St</td>\n",
              "    </tr>\n",
              "    <tr>\n",
              "      <th>3</th>\n",
              "      <td>AK</td>\n",
              "      <td>20 S Babcock St</td>\n",
              "    </tr>\n",
              "    <tr>\n",
              "      <th>4</th>\n",
              "      <td>AK</td>\n",
              "      <td>639 Main St</td>\n",
              "    </tr>\n",
              "    <tr>\n",
              "      <th>...</th>\n",
              "      <td>...</td>\n",
              "      <td>...</td>\n",
              "    </tr>\n",
              "    <tr>\n",
              "      <th>495</th>\n",
              "      <td>WI</td>\n",
              "      <td>762 S Main St</td>\n",
              "    </tr>\n",
              "    <tr>\n",
              "      <th>496</th>\n",
              "      <td>WI</td>\n",
              "      <td>9 N College Ave #3</td>\n",
              "    </tr>\n",
              "    <tr>\n",
              "      <th>497</th>\n",
              "      <td>WY</td>\n",
              "      <td>38773 Gravois Ave</td>\n",
              "    </tr>\n",
              "    <tr>\n",
              "      <th>498</th>\n",
              "      <td>WY</td>\n",
              "      <td>66697 Park Pl #3224</td>\n",
              "    </tr>\n",
              "    <tr>\n",
              "      <th>499</th>\n",
              "      <td>WY</td>\n",
              "      <td>7140 University Ave</td>\n",
              "    </tr>\n",
              "  </tbody>\n",
              "</table>\n",
              "<p>500 rows × 2 columns</p>\n",
              "</div>"
            ],
            "text/plain": [
              "    state                 address\n",
              "0      AK            1048 Main St\n",
              "1      AK  1747 Calle Amanecer #2\n",
              "2      AK          18 Fountain St\n",
              "3      AK         20 S Babcock St\n",
              "4      AK             639 Main St\n",
              "..    ...                     ...\n",
              "495    WI           762 S Main St\n",
              "496    WI      9 N College Ave #3\n",
              "497    WY       38773 Gravois Ave\n",
              "498    WY     66697 Park Pl #3224\n",
              "499    WY     7140 University Ave\n",
              "\n",
              "[500 rows x 2 columns]"
            ]
          },
          "metadata": {
            "tags": []
          },
          "execution_count": 24
        }
      ]
    },
    {
      "cell_type": "markdown",
      "metadata": {
        "id": "di7CilXvL-El"
      },
      "source": [
        "Caso por \"classificação\" a intenção seja no sentido de ordenação, podemos fazer o seguinte:"
      ]
    },
    {
      "cell_type": "code",
      "metadata": {
        "colab": {
          "base_uri": "https://localhost:8080/",
          "height": 606
        },
        "id": "CjCndJIqL8Ns",
        "outputId": "7d74fbc5-901b-4d8e-b951-b56e9ea1b02e"
      },
      "source": [
        "us_500.sort_values(by='state').head(8)"
      ],
      "execution_count": 25,
      "outputs": [
        {
          "output_type": "execute_result",
          "data": {
            "text/html": [
              "<div>\n",
              "<style scoped>\n",
              "    .dataframe tbody tr th:only-of-type {\n",
              "        vertical-align: middle;\n",
              "    }\n",
              "\n",
              "    .dataframe tbody tr th {\n",
              "        vertical-align: top;\n",
              "    }\n",
              "\n",
              "    .dataframe thead th {\n",
              "        text-align: right;\n",
              "    }\n",
              "</style>\n",
              "<table border=\"1\" class=\"dataframe\">\n",
              "  <thead>\n",
              "    <tr style=\"text-align: right;\">\n",
              "      <th></th>\n",
              "      <th>first_name</th>\n",
              "      <th>last_name</th>\n",
              "      <th>company_name</th>\n",
              "      <th>address</th>\n",
              "      <th>city</th>\n",
              "      <th>county</th>\n",
              "      <th>state</th>\n",
              "      <th>zip</th>\n",
              "      <th>phone1</th>\n",
              "      <th>phone2</th>\n",
              "      <th>email</th>\n",
              "      <th>web</th>\n",
              "    </tr>\n",
              "  </thead>\n",
              "  <tbody>\n",
              "    <tr>\n",
              "      <th>386</th>\n",
              "      <td>Gail</td>\n",
              "      <td>Kitty</td>\n",
              "      <td>Service Supply Co Inc</td>\n",
              "      <td>735 Crawford Dr</td>\n",
              "      <td>Anchorage</td>\n",
              "      <td>Anchorage</td>\n",
              "      <td>AK</td>\n",
              "      <td>99501</td>\n",
              "      <td>907-435-9166</td>\n",
              "      <td>907-770-3542</td>\n",
              "      <td>gail@kitty.com</td>\n",
              "      <td>http://www.servicesupplycoinc.com</td>\n",
              "    </tr>\n",
              "    <tr>\n",
              "      <th>66</th>\n",
              "      <td>Penney</td>\n",
              "      <td>Weight</td>\n",
              "      <td>Hawaiian King Hotel</td>\n",
              "      <td>18 Fountain St</td>\n",
              "      <td>Anchorage</td>\n",
              "      <td>Anchorage</td>\n",
              "      <td>AK</td>\n",
              "      <td>99515</td>\n",
              "      <td>907-797-9628</td>\n",
              "      <td>907-873-2882</td>\n",
              "      <td>penney_weight@aol.com</td>\n",
              "      <td>http://www.hawaiiankinghotel.com</td>\n",
              "    </tr>\n",
              "    <tr>\n",
              "      <th>3</th>\n",
              "      <td>Lenna</td>\n",
              "      <td>Paprocki</td>\n",
              "      <td>Feltz Printing Service</td>\n",
              "      <td>639 Main St</td>\n",
              "      <td>Anchorage</td>\n",
              "      <td>Anchorage</td>\n",
              "      <td>AK</td>\n",
              "      <td>99501</td>\n",
              "      <td>907-385-4412</td>\n",
              "      <td>907-921-2010</td>\n",
              "      <td>lpaprocki@hotmail.com</td>\n",
              "      <td>http://www.feltzprintingservice.com</td>\n",
              "    </tr>\n",
              "    <tr>\n",
              "      <th>42</th>\n",
              "      <td>Roxane</td>\n",
              "      <td>Campain</td>\n",
              "      <td>Rapid Trading Intl</td>\n",
              "      <td>1048 Main St</td>\n",
              "      <td>Fairbanks</td>\n",
              "      <td>Fairbanks North Star</td>\n",
              "      <td>AK</td>\n",
              "      <td>99708</td>\n",
              "      <td>907-231-4722</td>\n",
              "      <td>907-335-6568</td>\n",
              "      <td>roxane@hotmail.com</td>\n",
              "      <td>http://www.rapidtradingintl.com</td>\n",
              "    </tr>\n",
              "    <tr>\n",
              "      <th>44</th>\n",
              "      <td>Erick</td>\n",
              "      <td>Ferencz</td>\n",
              "      <td>Cindy Turner Associates</td>\n",
              "      <td>20 S Babcock St</td>\n",
              "      <td>Fairbanks</td>\n",
              "      <td>Fairbanks North Star</td>\n",
              "      <td>AK</td>\n",
              "      <td>99712</td>\n",
              "      <td>907-741-1044</td>\n",
              "      <td>907-227-6777</td>\n",
              "      <td>erick.ferencz@aol.com</td>\n",
              "      <td>http://www.cindyturnerassociates.com</td>\n",
              "    </tr>\n",
              "    <tr>\n",
              "      <th>93</th>\n",
              "      <td>Wilda</td>\n",
              "      <td>Giguere</td>\n",
              "      <td>Mclaughlin, Luther W Cpa</td>\n",
              "      <td>1747 Calle Amanecer #2</td>\n",
              "      <td>Anchorage</td>\n",
              "      <td>Anchorage</td>\n",
              "      <td>AK</td>\n",
              "      <td>99501</td>\n",
              "      <td>907-870-5536</td>\n",
              "      <td>907-914-9482</td>\n",
              "      <td>wilda@cox.net</td>\n",
              "      <td>http://www.mclaughlinlutherwcpa.com</td>\n",
              "    </tr>\n",
              "    <tr>\n",
              "      <th>159</th>\n",
              "      <td>Carin</td>\n",
              "      <td>Deleo</td>\n",
              "      <td>Redeker, Debbie</td>\n",
              "      <td>1844 Southern Blvd</td>\n",
              "      <td>Little Rock</td>\n",
              "      <td>Pulaski</td>\n",
              "      <td>AR</td>\n",
              "      <td>72202</td>\n",
              "      <td>501-308-1040</td>\n",
              "      <td>501-409-6072</td>\n",
              "      <td>cdeleo@deleo.com</td>\n",
              "      <td>http://www.redekerdebbie.com</td>\n",
              "    </tr>\n",
              "    <tr>\n",
              "      <th>286</th>\n",
              "      <td>Herminia</td>\n",
              "      <td>Nicolozakes</td>\n",
              "      <td>Sea Island Div Of Fstr Ind Inc</td>\n",
              "      <td>4 58th St #3519</td>\n",
              "      <td>Scottsdale</td>\n",
              "      <td>Maricopa</td>\n",
              "      <td>AZ</td>\n",
              "      <td>85254</td>\n",
              "      <td>602-954-5141</td>\n",
              "      <td>602-304-6433</td>\n",
              "      <td>herminia@nicolozakes.org</td>\n",
              "      <td>http://www.seaislanddivoffstrindinc.com</td>\n",
              "    </tr>\n",
              "  </tbody>\n",
              "</table>\n",
              "</div>"
            ],
            "text/plain": [
              "    first_name  ...                                      web\n",
              "386       Gail  ...        http://www.servicesupplycoinc.com\n",
              "66      Penney  ...         http://www.hawaiiankinghotel.com\n",
              "3        Lenna  ...      http://www.feltzprintingservice.com\n",
              "42      Roxane  ...          http://www.rapidtradingintl.com\n",
              "44       Erick  ...     http://www.cindyturnerassociates.com\n",
              "93       Wilda  ...      http://www.mclaughlinlutherwcpa.com\n",
              "159      Carin  ...             http://www.redekerdebbie.com\n",
              "286   Herminia  ...  http://www.seaislanddivoffstrindinc.com\n",
              "\n",
              "[8 rows x 12 columns]"
            ]
          },
          "metadata": {
            "tags": []
          },
          "execution_count": 25
        }
      ]
    },
    {
      "cell_type": "markdown",
      "metadata": {
        "id": "8WmvECUsMjil"
      },
      "source": [
        "## C. Suponha que o zip code deve sempre ter 5 dígitos, ache todos os zip codes irregulares;\n"
      ]
    },
    {
      "cell_type": "markdown",
      "metadata": {
        "id": "T-lwH9CSOGJD"
      },
      "source": [
        "Para contar o número de strings, podemos aplicar a função len() para cada string. Mas, para fazer isso em cada observação, devemos usar a função apply, que aplica uma função a cada observação do dataframe. Neste caso, vamos usar uma função lambda, que vai receber a entrada (que é numérica) e vamos retornar a quantidade de caracteres da string da instância. \n"
      ]
    },
    {
      "cell_type": "code",
      "metadata": {
        "colab": {
          "base_uri": "https://localhost:8080/"
        },
        "id": "k1RC59kOMNqX",
        "outputId": "6f5f4949-c566-45e8-e61f-202854b08191"
      },
      "source": [
        "us_500['zip'].apply(lambda x: len(str(x)))"
      ],
      "execution_count": 26,
      "outputs": [
        {
          "output_type": "execute_result",
          "data": {
            "text/plain": [
              "0      5\n",
              "1      5\n",
              "2      4\n",
              "3      5\n",
              "4      5\n",
              "      ..\n",
              "495    5\n",
              "496    5\n",
              "497    5\n",
              "498    5\n",
              "499    5\n",
              "Name: zip, Length: 500, dtype: int64"
            ]
          },
          "metadata": {
            "tags": []
          },
          "execution_count": 26
        }
      ]
    },
    {
      "cell_type": "markdown",
      "metadata": {
        "id": "VhOKqqWqOq3t"
      },
      "source": [
        "Conseguimos ver acima que algumas observações possuem 4 dígitos. No entanto, ainda não conseguimos visualizar quantas observações possui mais de 5 caracteres ainda. Para isso, fazemos:"
      ]
    },
    {
      "cell_type": "code",
      "metadata": {
        "colab": {
          "base_uri": "https://localhost:8080/",
          "height": 49
        },
        "id": "rXovlDWwN8Xl",
        "outputId": "b0f19c31-085f-4977-9e52-a0a2e94a89fa"
      },
      "source": [
        "us_500[us_500['zip'].apply(lambda x: len(str(x))) > 5]"
      ],
      "execution_count": 27,
      "outputs": [
        {
          "output_type": "execute_result",
          "data": {
            "text/html": [
              "<div>\n",
              "<style scoped>\n",
              "    .dataframe tbody tr th:only-of-type {\n",
              "        vertical-align: middle;\n",
              "    }\n",
              "\n",
              "    .dataframe tbody tr th {\n",
              "        vertical-align: top;\n",
              "    }\n",
              "\n",
              "    .dataframe thead th {\n",
              "        text-align: right;\n",
              "    }\n",
              "</style>\n",
              "<table border=\"1\" class=\"dataframe\">\n",
              "  <thead>\n",
              "    <tr style=\"text-align: right;\">\n",
              "      <th></th>\n",
              "      <th>first_name</th>\n",
              "      <th>last_name</th>\n",
              "      <th>company_name</th>\n",
              "      <th>address</th>\n",
              "      <th>city</th>\n",
              "      <th>county</th>\n",
              "      <th>state</th>\n",
              "      <th>zip</th>\n",
              "      <th>phone1</th>\n",
              "      <th>phone2</th>\n",
              "      <th>email</th>\n",
              "      <th>web</th>\n",
              "    </tr>\n",
              "  </thead>\n",
              "  <tbody>\n",
              "  </tbody>\n",
              "</table>\n",
              "</div>"
            ],
            "text/plain": [
              "Empty DataFrame\n",
              "Columns: [first_name, last_name, company_name, address, city, county, state, zip, phone1, phone2, email, web]\n",
              "Index: []"
            ]
          },
          "metadata": {
            "tags": []
          },
          "execution_count": 27
        }
      ]
    },
    {
      "cell_type": "markdown",
      "metadata": {
        "id": "3e2vFCpRP9sO"
      },
      "source": [
        "Ou, se quisermos só o número:"
      ]
    },
    {
      "cell_type": "code",
      "metadata": {
        "colab": {
          "base_uri": "https://localhost:8080/"
        },
        "id": "LHI4JkiGOzdV",
        "outputId": "b9654e2f-99e1-46b5-bcc5-ac44b0345f7c"
      },
      "source": [
        "us_500['zip'][us_500['zip'].apply(lambda x: len(str(x))) > 5].count()"
      ],
      "execution_count": 28,
      "outputs": [
        {
          "output_type": "execute_result",
          "data": {
            "text/plain": [
              "0"
            ]
          },
          "metadata": {
            "tags": []
          },
          "execution_count": 28
        }
      ]
    },
    {
      "cell_type": "markdown",
      "metadata": {
        "id": "T6JN7NrWqYlo"
      },
      "source": [
        "No entanto, como 5 é o único número que aceitamos como regular, podemos pegar só as observações cujo número de dígitos do zip code é diferente de 5. "
      ]
    },
    {
      "cell_type": "code",
      "metadata": {
        "colab": {
          "base_uri": "https://localhost:8080/",
          "height": 394
        },
        "id": "h37YIv4Aqb_3",
        "outputId": "365802fb-46ce-4328-e03b-62f5eea09d3d"
      },
      "source": [
        "irregular_zip_codes_df = us_500[us_500['zip'].apply(lambda x: len(str(x))) != 5]\n",
        "irregular_zip_codes_df.head()"
      ],
      "execution_count": 29,
      "outputs": [
        {
          "output_type": "execute_result",
          "data": {
            "text/html": [
              "<div>\n",
              "<style scoped>\n",
              "    .dataframe tbody tr th:only-of-type {\n",
              "        vertical-align: middle;\n",
              "    }\n",
              "\n",
              "    .dataframe tbody tr th {\n",
              "        vertical-align: top;\n",
              "    }\n",
              "\n",
              "    .dataframe thead th {\n",
              "        text-align: right;\n",
              "    }\n",
              "</style>\n",
              "<table border=\"1\" class=\"dataframe\">\n",
              "  <thead>\n",
              "    <tr style=\"text-align: right;\">\n",
              "      <th></th>\n",
              "      <th>first_name</th>\n",
              "      <th>last_name</th>\n",
              "      <th>company_name</th>\n",
              "      <th>address</th>\n",
              "      <th>city</th>\n",
              "      <th>county</th>\n",
              "      <th>state</th>\n",
              "      <th>zip</th>\n",
              "      <th>phone1</th>\n",
              "      <th>phone2</th>\n",
              "      <th>email</th>\n",
              "      <th>web</th>\n",
              "    </tr>\n",
              "  </thead>\n",
              "  <tbody>\n",
              "    <tr>\n",
              "      <th>2</th>\n",
              "      <td>Art</td>\n",
              "      <td>Venere</td>\n",
              "      <td>Chemel, James L Cpa</td>\n",
              "      <td>8 W Cerritos Ave #54</td>\n",
              "      <td>Bridgeport</td>\n",
              "      <td>Gloucester</td>\n",
              "      <td>NJ</td>\n",
              "      <td>8014</td>\n",
              "      <td>856-636-8749</td>\n",
              "      <td>856-264-4130</td>\n",
              "      <td>art@venere.org</td>\n",
              "      <td>http://www.chemeljameslcpa.com</td>\n",
              "    </tr>\n",
              "    <tr>\n",
              "      <th>24</th>\n",
              "      <td>Alisha</td>\n",
              "      <td>Slusarski</td>\n",
              "      <td>Wtlz Power 107 Fm</td>\n",
              "      <td>3273 State St</td>\n",
              "      <td>Middlesex</td>\n",
              "      <td>Middlesex</td>\n",
              "      <td>NJ</td>\n",
              "      <td>8846</td>\n",
              "      <td>732-658-3154</td>\n",
              "      <td>732-635-3453</td>\n",
              "      <td>alisha@slusarski.com</td>\n",
              "      <td>http://www.wtlzpowerfm.com</td>\n",
              "    </tr>\n",
              "    <tr>\n",
              "      <th>32</th>\n",
              "      <td>Ernie</td>\n",
              "      <td>Stenseth</td>\n",
              "      <td>Knwz Newsradio</td>\n",
              "      <td>45 E Liberty St</td>\n",
              "      <td>Ridgefield Park</td>\n",
              "      <td>Bergen</td>\n",
              "      <td>NJ</td>\n",
              "      <td>7660</td>\n",
              "      <td>201-709-6245</td>\n",
              "      <td>201-387-9093</td>\n",
              "      <td>ernie_stenseth@aol.com</td>\n",
              "      <td>http://www.knwznewsradio.com</td>\n",
              "    </tr>\n",
              "    <tr>\n",
              "      <th>33</th>\n",
              "      <td>Albina</td>\n",
              "      <td>Glick</td>\n",
              "      <td>Giampetro, Anthony D</td>\n",
              "      <td>4 Ralph Ct</td>\n",
              "      <td>Dunellen</td>\n",
              "      <td>Middlesex</td>\n",
              "      <td>NJ</td>\n",
              "      <td>8812</td>\n",
              "      <td>732-924-7882</td>\n",
              "      <td>732-782-6701</td>\n",
              "      <td>albina@glick.com</td>\n",
              "      <td>http://www.giampetroanthonyd.com</td>\n",
              "    </tr>\n",
              "    <tr>\n",
              "      <th>46</th>\n",
              "      <td>Jina</td>\n",
              "      <td>Briddick</td>\n",
              "      <td>Grace Pastries Inc</td>\n",
              "      <td>38938 Park Blvd</td>\n",
              "      <td>Boston</td>\n",
              "      <td>Suffolk</td>\n",
              "      <td>MA</td>\n",
              "      <td>2128</td>\n",
              "      <td>617-399-5124</td>\n",
              "      <td>617-997-5771</td>\n",
              "      <td>jina_briddick@briddick.com</td>\n",
              "      <td>http://www.gracepastriesinc.com</td>\n",
              "    </tr>\n",
              "  </tbody>\n",
              "</table>\n",
              "</div>"
            ],
            "text/plain": [
              "   first_name  ...                               web\n",
              "2         Art  ...    http://www.chemeljameslcpa.com\n",
              "24     Alisha  ...        http://www.wtlzpowerfm.com\n",
              "32      Ernie  ...      http://www.knwznewsradio.com\n",
              "33     Albina  ...  http://www.giampetroanthonyd.com\n",
              "46       Jina  ...   http://www.gracepastriesinc.com\n",
              "\n",
              "[5 rows x 12 columns]"
            ]
          },
          "metadata": {
            "tags": []
          },
          "execution_count": 29
        }
      ]
    },
    {
      "cell_type": "markdown",
      "metadata": {
        "id": "s16bgwJNqwLX"
      },
      "source": [
        "Acima, podemos ver algumas das obversações com zip code irregular. Se precisarmos, podemos pegar apenas seus índices:"
      ]
    },
    {
      "cell_type": "code",
      "metadata": {
        "colab": {
          "base_uri": "https://localhost:8080/"
        },
        "id": "0hd618xArTJX",
        "outputId": "f0305e8c-e7d5-4274-cf76-1133aa378acc"
      },
      "source": [
        "irregular_zip_codes_df.index"
      ],
      "execution_count": 30,
      "outputs": [
        {
          "output_type": "execute_result",
          "data": {
            "text/plain": [
              "Int64Index([  2,  24,  32,  33,  46,  54,  58,  60,  61,  77,  79, 108, 113,\n",
              "            119, 120, 126, 127, 132, 133, 134, 135, 149, 157, 171, 177, 179,\n",
              "            182, 188, 190, 193, 196, 199, 222, 231, 235, 237, 242, 248, 249,\n",
              "            253, 265, 268, 275, 283, 294, 296, 306, 311, 317, 319, 321, 330,\n",
              "            332, 335, 342, 364, 373, 385, 397, 403, 404, 406, 417, 419, 420,\n",
              "            429, 431, 441, 442, 448, 457, 458, 463, 466, 478, 484, 488, 489],\n",
              "           dtype='int64')"
            ]
          },
          "metadata": {
            "tags": []
          },
          "execution_count": 30
        }
      ]
    },
    {
      "cell_type": "markdown",
      "metadata": {
        "id": "NBu5ASNhSFxp"
      },
      "source": [
        "## D. Separe a coluna ‘address’ em três partes: o número na rua, o nome da rua e o número de quartos. (Considere que pode haver partes faltantes)"
      ]
    },
    {
      "cell_type": "markdown",
      "metadata": {
        "id": "TAqx0eYKSv7A"
      },
      "source": [
        "Como aconselhado, vamos levar em consideração que pode haver partes faltantes. Numa visualização rápida, podemos ver que realmente há partes faltantes:"
      ]
    },
    {
      "cell_type": "code",
      "metadata": {
        "colab": {
          "base_uri": "https://localhost:8080/"
        },
        "id": "-1kalba9QAQ0",
        "outputId": "158c52ed-0cfc-4983-baea-5816a7725ccf"
      },
      "source": [
        "us_500['address'].head()"
      ],
      "execution_count": 31,
      "outputs": [
        {
          "output_type": "execute_result",
          "data": {
            "text/plain": [
              "0      6649 N Blue Gum St\n",
              "1     4 B Blue Ridge Blvd\n",
              "2    8 W Cerritos Ave #54\n",
              "3             639 Main St\n",
              "4            34 Center St\n",
              "Name: address, dtype: object"
            ]
          },
          "metadata": {
            "tags": []
          },
          "execution_count": 31
        }
      ]
    },
    {
      "cell_type": "markdown",
      "metadata": {
        "id": "p2Uoza0RTWzt"
      },
      "source": [
        "Podemos visualizar rapidamente que realmente há casos em que não há algumas partes. Vamos conferir se a primeira parte, numérica, está presente em todas as observações:"
      ]
    },
    {
      "cell_type": "code",
      "metadata": {
        "colab": {
          "base_uri": "https://localhost:8080/"
        },
        "id": "0TxpFhbLSe9q",
        "outputId": "71e3379b-6ccc-49ce-9502-6259c93b2c4b"
      },
      "source": [
        "us_500['address'].apply(lambda x: x.split()[0].isnumeric()).sum()"
      ],
      "execution_count": 32,
      "outputs": [
        {
          "output_type": "execute_result",
          "data": {
            "text/plain": [
              "500"
            ]
          },
          "metadata": {
            "tags": []
          },
          "execution_count": 32
        }
      ]
    },
    {
      "cell_type": "markdown",
      "metadata": {
        "id": "HFF2Qz9Bb7XV"
      },
      "source": [
        "Podemos ver que a última parte, quando presente, começa com o caracter '#'. Por isso, vamos checar quantas vezes a última parte começa com '#'. "
      ]
    },
    {
      "cell_type": "code",
      "metadata": {
        "colab": {
          "base_uri": "https://localhost:8080/"
        },
        "id": "sKiYV_fWUL-b",
        "outputId": "d67835f6-9c01-4f07-96e0-3fb6c2fed497"
      },
      "source": [
        "us_500['address'].apply(lambda x: x.split()[-1].startswith('#')).sum()"
      ],
      "execution_count": 33,
      "outputs": [
        {
          "output_type": "execute_result",
          "data": {
            "text/plain": [
              "109"
            ]
          },
          "metadata": {
            "tags": []
          },
          "execution_count": 33
        }
      ]
    },
    {
      "cell_type": "markdown",
      "metadata": {
        "id": "Umk2Ba6FdX9q"
      },
      "source": [
        "Assim, vemos que apenas 109 das 500 observações possuem o número. Por isso, precisamos tratar esses casos. "
      ]
    },
    {
      "cell_type": "code",
      "metadata": {
        "id": "UAG0jP7fcYUO"
      },
      "source": [
        "address_1 = '8 W Cerritos Ave #54'\n",
        "address_2 = '6649 N Blue Gum St'\n",
        "\n",
        "def split_address(address: str) -> tuple:\n",
        "    ''' Takes an address string and splits the initial number, the name of the street,\n",
        "    avenue, boulevard or other alike places, and the final number, following a '#'. \n",
        "    Params:\n",
        "        address: the address string\n",
        "    Returns: \n",
        "        a tuple containing the three parts.\n",
        "    '''\n",
        "    splitted = address.split()\n",
        "    pt_1 = splitted.pop(0)\n",
        "    if splitted[-1].startswith('#'):\n",
        "        pt_3 = splitted.pop(-1)\n",
        "    else:\n",
        "        pt_3 = ''\n",
        "    pt_2 = \" \".join(splitted)\n",
        "\n",
        "    return pt_1, pt_2, pt_3\n",
        "\n",
        "assert split_address(address_1) == ('8', 'W Cerritos Ave', '#54')\n",
        "assert split_address(address_2) == ('6649', 'N Blue Gum St', '')"
      ],
      "execution_count": 34,
      "outputs": []
    },
    {
      "cell_type": "markdown",
      "metadata": {
        "id": "R5mi3Z8WirIk"
      },
      "source": [
        "A função acima serve para separar o endereço, como pedido no enunciado. Se quisermos aplicar a função para todo o dataset, basta fazer: "
      ]
    },
    {
      "cell_type": "code",
      "metadata": {
        "colab": {
          "base_uri": "https://localhost:8080/"
        },
        "id": "_TKBcnDuikhU",
        "outputId": "cb50d65a-e439-4822-f898-0df6be1a0420"
      },
      "source": [
        "us_500['address'].apply(lambda x: split_address(x))"
      ],
      "execution_count": 35,
      "outputs": [
        {
          "output_type": "execute_result",
          "data": {
            "text/plain": [
              "0       (6649, N Blue Gum St, )\n",
              "1      (4, B Blue Ridge Blvd, )\n",
              "2      (8, W Cerritos Ave, #54)\n",
              "3              (639, Main St, )\n",
              "4             (34, Center St, )\n",
              "                 ...           \n",
              "495             (67, Rv Cent, )\n",
              "496         (2, Sw Nyberg Rd, )\n",
              "497        (89992, E 15th St, )\n",
              "498       (61556, W 20th Ave, )\n",
              "499         (63, E Aurora Dr, )\n",
              "Name: address, Length: 500, dtype: object"
            ]
          },
          "metadata": {
            "tags": []
          },
          "execution_count": 35
        }
      ]
    },
    {
      "cell_type": "markdown",
      "metadata": {
        "id": "lVBm_yZjiZRb"
      },
      "source": [
        "Se quisermos criar novas colunas no DataFrame para cada parte do endereço, fazemos: (observe as últimas colunas)"
      ]
    },
    {
      "cell_type": "code",
      "metadata": {
        "colab": {
          "base_uri": "https://localhost:8080/",
          "height": 394
        },
        "id": "7PRDfOy7fgIS",
        "outputId": "6283d87e-1237-4e04-9abf-cf0976c48b9c"
      },
      "source": [
        "try:\n",
        "    us_500['address'] = us_500['address'].map(lambda x: split_address(x))\n",
        "    # https://stackoverflow.com/questions/35491274/pandas-split-column-of-lists-into-multiple-columns\n",
        "    us_500[['address_pt_1','address_pt_2', 'address_pt_3']] = pd.DataFrame(us_500['address'].tolist(), index=us_500.index)\n",
        "    us_500 = us_500.drop(columns=['address'])\n",
        "except:\n",
        "    # Se rodar essa célula mais de uma vez, ela pode não funcionar pois o dataframe us_500 já foi alterado. \n",
        "    # Por isso apresento a seguinte mensagem:\n",
        "    print(\"A operação não foi realizada. Possivelmente ela já tinha sido realizada anteriormente.\")\n",
        "\n",
        "us_500.head()"
      ],
      "execution_count": 36,
      "outputs": [
        {
          "output_type": "execute_result",
          "data": {
            "text/html": [
              "<div>\n",
              "<style scoped>\n",
              "    .dataframe tbody tr th:only-of-type {\n",
              "        vertical-align: middle;\n",
              "    }\n",
              "\n",
              "    .dataframe tbody tr th {\n",
              "        vertical-align: top;\n",
              "    }\n",
              "\n",
              "    .dataframe thead th {\n",
              "        text-align: right;\n",
              "    }\n",
              "</style>\n",
              "<table border=\"1\" class=\"dataframe\">\n",
              "  <thead>\n",
              "    <tr style=\"text-align: right;\">\n",
              "      <th></th>\n",
              "      <th>first_name</th>\n",
              "      <th>last_name</th>\n",
              "      <th>company_name</th>\n",
              "      <th>city</th>\n",
              "      <th>county</th>\n",
              "      <th>state</th>\n",
              "      <th>zip</th>\n",
              "      <th>phone1</th>\n",
              "      <th>phone2</th>\n",
              "      <th>email</th>\n",
              "      <th>web</th>\n",
              "      <th>address_pt_1</th>\n",
              "      <th>address_pt_2</th>\n",
              "      <th>address_pt_3</th>\n",
              "    </tr>\n",
              "  </thead>\n",
              "  <tbody>\n",
              "    <tr>\n",
              "      <th>0</th>\n",
              "      <td>James</td>\n",
              "      <td>Butt</td>\n",
              "      <td>Benton, John B Jr</td>\n",
              "      <td>New Orleans</td>\n",
              "      <td>Orleans</td>\n",
              "      <td>LA</td>\n",
              "      <td>70116</td>\n",
              "      <td>504-621-8927</td>\n",
              "      <td>504-845-1427</td>\n",
              "      <td>jbutt@gmail.com</td>\n",
              "      <td>http://www.bentonjohnbjr.com</td>\n",
              "      <td>6649</td>\n",
              "      <td>N Blue Gum St</td>\n",
              "      <td></td>\n",
              "    </tr>\n",
              "    <tr>\n",
              "      <th>1</th>\n",
              "      <td>Josephine</td>\n",
              "      <td>Darakjy</td>\n",
              "      <td>Chanay, Jeffrey A Esq</td>\n",
              "      <td>Brighton</td>\n",
              "      <td>Livingston</td>\n",
              "      <td>MI</td>\n",
              "      <td>48116</td>\n",
              "      <td>810-292-9388</td>\n",
              "      <td>810-374-9840</td>\n",
              "      <td>josephine_darakjy@darakjy.org</td>\n",
              "      <td>http://www.chanayjeffreyaesq.com</td>\n",
              "      <td>4</td>\n",
              "      <td>B Blue Ridge Blvd</td>\n",
              "      <td></td>\n",
              "    </tr>\n",
              "    <tr>\n",
              "      <th>2</th>\n",
              "      <td>Art</td>\n",
              "      <td>Venere</td>\n",
              "      <td>Chemel, James L Cpa</td>\n",
              "      <td>Bridgeport</td>\n",
              "      <td>Gloucester</td>\n",
              "      <td>NJ</td>\n",
              "      <td>8014</td>\n",
              "      <td>856-636-8749</td>\n",
              "      <td>856-264-4130</td>\n",
              "      <td>art@venere.org</td>\n",
              "      <td>http://www.chemeljameslcpa.com</td>\n",
              "      <td>8</td>\n",
              "      <td>W Cerritos Ave</td>\n",
              "      <td>#54</td>\n",
              "    </tr>\n",
              "    <tr>\n",
              "      <th>3</th>\n",
              "      <td>Lenna</td>\n",
              "      <td>Paprocki</td>\n",
              "      <td>Feltz Printing Service</td>\n",
              "      <td>Anchorage</td>\n",
              "      <td>Anchorage</td>\n",
              "      <td>AK</td>\n",
              "      <td>99501</td>\n",
              "      <td>907-385-4412</td>\n",
              "      <td>907-921-2010</td>\n",
              "      <td>lpaprocki@hotmail.com</td>\n",
              "      <td>http://www.feltzprintingservice.com</td>\n",
              "      <td>639</td>\n",
              "      <td>Main St</td>\n",
              "      <td></td>\n",
              "    </tr>\n",
              "    <tr>\n",
              "      <th>4</th>\n",
              "      <td>Donette</td>\n",
              "      <td>Foller</td>\n",
              "      <td>Printing Dimensions</td>\n",
              "      <td>Hamilton</td>\n",
              "      <td>Butler</td>\n",
              "      <td>OH</td>\n",
              "      <td>45011</td>\n",
              "      <td>513-570-1893</td>\n",
              "      <td>513-549-4561</td>\n",
              "      <td>donette.foller@cox.net</td>\n",
              "      <td>http://www.printingdimensions.com</td>\n",
              "      <td>34</td>\n",
              "      <td>Center St</td>\n",
              "      <td></td>\n",
              "    </tr>\n",
              "  </tbody>\n",
              "</table>\n",
              "</div>"
            ],
            "text/plain": [
              "  first_name last_name  ...       address_pt_2 address_pt_3\n",
              "0      James      Butt  ...      N Blue Gum St             \n",
              "1  Josephine   Darakjy  ...  B Blue Ridge Blvd             \n",
              "2        Art    Venere  ...     W Cerritos Ave          #54\n",
              "3      Lenna  Paprocki  ...            Main St             \n",
              "4    Donette    Foller  ...          Center St             \n",
              "\n",
              "[5 rows x 14 columns]"
            ]
          },
          "metadata": {
            "tags": []
          },
          "execution_count": 36
        }
      ]
    }
  ]
}